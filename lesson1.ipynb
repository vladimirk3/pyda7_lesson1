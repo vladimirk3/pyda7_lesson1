{
 "cells": [
  {
   "cell_type": "code",
   "execution_count": 3,
   "metadata": {},
   "outputs": [
    {
     "name": "stdout",
     "output_type": "stream",
     "text": [
      "True\n"
     ]
    }
   ],
   "source": [
    "#Даны 2 строки long_phrase и short_phrase. Напишите код, который проверяет действительно ли длинная фраза long_phrase длиннее короткой short_phrase. И выводит True или False в зависимости от результата сравнения.\n",
    "\n",
    "long_phrase = \"Насколько проще было бы писать программы, если бы не заказчики\"\n",
    "short_phrase = \"640Кб должно хватить для любых задач. Билл Гейтс (по легенде)\"\n",
    "\n",
    "if len(long_phrase)>len(short_phrase):\n",
    "    print(True)\n",
    "else:\n",
    "    print(False)\n"
   ]
  },
  {
   "cell_type": "code",
   "execution_count": 7,
   "metadata": {},
   "outputs": [
    {
     "name": "stdout",
     "output_type": "stream",
     "text": [
      "введите размер файла в байтах:500000\n",
      "Объем файла равен 0.476837158203125 Mb\n"
     ]
    }
   ],
   "source": [
    "#Дано значение объема файла в байтах. Напишите перевод этого значения в мегабайты в формате:‘Объем файла равен 213.68Mb’\n",
    "x=int(input('Введите размер файла в байтах:'))\n",
    "print('Объем файла равен',x/1048576,'Mb')"
   ]
  },
  {
   "cell_type": "code",
   "execution_count": 24,
   "metadata": {},
   "outputs": [
    {
     "name": "stdout",
     "output_type": "stream",
     "text": [
      "Введите месяц:август\n",
      "Введите число:15\n",
      "Вывод: Лев\n"
     ]
    }
   ],
   "source": [
    "#Разработать приложение для определения знака зодиака по дате рождения.\n",
    "month=input('Введите месяц:')\n",
    "date=int(input('Введите число:'))\n",
    "\n",
    "if (month == 'март' and (date>21 and date<31)) or (month == 'апрель' and (date>1 and date<20)):\n",
    "    print('Вывод: Овен')\n",
    "elif (month == 'апрель' and (date>21 and date<31)) or (month == 'май' and (date>1 and date<20)):\n",
    "    print('Вывод: Телец')\n",
    "elif (month == 'май' and (date>21 and date<31)) or (month == 'июнь' and (date>1 and date<20)):\n",
    "    print('Вывод: Близнецы')\n",
    "elif (month == 'июнь' and (date>21 and date<30)) or (month == 'июль' and (date>1 and date<22)):\n",
    "    print('Вывод: Рак') \n",
    "elif (month == 'июль' and (date>23 and date<31)) or (month == 'август' and (date>1 and date<22)):\n",
    "    print('Вывод: Лев')\n",
    "elif (month == 'август' and (date>23 and date<31)) or (month == 'сентябрь' and (date>1 and date<23)):\n",
    "    print('Вывод: Дева') \n",
    "elif (month == 'сентябрь' and (date>24 and date<30)) or (month == 'октябрь' and (date>1 and date<23)):\n",
    "    print('Вывод: Весы')\n",
    "elif (month == 'октябрь' and (date>24 and date<31)) or (month == 'ноябрь' and (date>1 and date<21)):\n",
    "    print('Вывод: Скорпион') \n",
    "elif (month == 'ноябрь' and (date>22 and date<30)) or (month == 'декабрь' and (date>1 and date<21)):\n",
    "    print('Вывод: Стрелец') \n",
    "elif (month == 'декабрь' and (date>22 and date<31)) or (month == 'январь' and (date>1 and date<19)):\n",
    "    print('Вывод: Козерог')\n",
    "elif (month == 'январь' and (date>20 and date<31)) or (month == 'февраль' and (date>1 and date<18)):\n",
    "    print('Вывод: Водолей') \n",
    "elif (month == 'февраль' and (date>19 and date<28)) or (month == 'март' and (date>1 and date<20)):\n",
    "    print('Вывод: Рыбы') \n",
    "else:\n",
    "    if month=='январь' or month=='февраль' or month=='март' or month=='апрель' or month=='май' or month=='июнь' or month=='июль' or month=='август' or month=='сентябрь' or month=='октябрь' or month=='ноябрь' or month=='декабрь':\n",
    "        print('не корректно введена дата')\n",
    "    else: \n",
    "        print('не корректно введен месяц')\n"
   ]
  },
  {
   "cell_type": "code",
   "execution_count": 29,
   "metadata": {},
   "outputs": [
    {
     "name": "stdout",
     "output_type": "stream",
     "text": [
      "Введите заработную плату:1000\n",
      "Введите сколько процентов уходит на ипотеку:10\n",
      "Введите сколько процентов уходит на жизнь:10\n",
      "Введите количество премий в год:1\n",
      "На ипотеку было потрачено: 100.0\n",
      "На жизнь было потрачено: 100.0\n",
      "Премия приходит 1  раз в год\n",
      "Было накоплено: 10100.0\n"
     ]
    }
   ],
   "source": [
    "#приложение для финансового планирования\n",
    "salary=int(input('Введите заработную плату:'))\n",
    "mortgage_rate=int(input('Введите сколько процентов уходит на ипотеку:'))\n",
    "live_rate=int(input('Введите сколько процентов уходит на жизнь:'))\n",
    "bonus_times=int(input('Введите количество премий в год:'))\n",
    "total_income=salary+salary*bonus_times\n",
    "mortgage=salary*mortgage_rate/100\n",
    "live=salary*live_rate/100\n",
    "total_bonus=salary*bonus_times\n",
    "total_rest=salary*bonus_times/2\n",
    "\n",
    "print('На ипотеку было потрачено:', mortgage)\n",
    "print('На жизнь было потрачено:', live)\n",
    "print('Премия приходит',bonus_times,' раз в год')\n",
    "print('Было накоплено:', 12*(salary - mortgage - live) + total_bonus -total_rest)\n"
   ]
  },
  {
   "cell_type": "code",
   "execution_count": null,
   "metadata": {},
   "outputs": [],
   "source": []
  }
 ],
 "metadata": {
  "kernelspec": {
   "display_name": "Python 3",
   "language": "python",
   "name": "python3"
  },
  "language_info": {
   "codemirror_mode": {
    "name": "ipython",
    "version": 3
   },
   "file_extension": ".py",
   "mimetype": "text/x-python",
   "name": "python",
   "nbconvert_exporter": "python",
   "pygments_lexer": "ipython3",
   "version": "3.7.4"
  }
 },
 "nbformat": 4,
 "nbformat_minor": 2
}
